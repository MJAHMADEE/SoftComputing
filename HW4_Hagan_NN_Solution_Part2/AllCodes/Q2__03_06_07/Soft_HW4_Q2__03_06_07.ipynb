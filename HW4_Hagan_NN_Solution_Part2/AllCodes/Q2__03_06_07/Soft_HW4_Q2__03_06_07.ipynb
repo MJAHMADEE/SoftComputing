{
  "nbformat": 4,
  "nbformat_minor": 0,
  "metadata": {
    "colab": {
      "provenance": []
    },
    "kernelspec": {
      "name": "python3",
      "display_name": "Python 3"
    },
    "language_info": {
      "name": "python"
    }
  },
  "cells": [
    {
      "cell_type": "markdown",
      "metadata": {
        "id": "DM4CrS1kgYps"
      },
      "source": [
        "# E3.6"
      ]
    },
    {
      "cell_type": "code",
      "execution_count": 1,
      "metadata": {
        "colab": {
          "base_uri": "https://localhost:8080/"
        },
        "id": "NY44APblodxY",
        "outputId": "6c594335-79eb-45b3-f250-f2d745b57e0f"
      },
      "outputs": [
        {
          "metadata": {
            "tags": null
          },
          "name": "stdout",
          "output_type": "stream",
          "text": [
            "Looking in indexes: https://pypi.org/simple, https://us-python.pkg.dev/colab-wheels/public/simple/\n",
            "Requirement already satisfied: gdown in /usr/local/lib/python3.8/dist-packages (4.4.0)\n",
            "Collecting gdown\n",
            "  Downloading gdown-4.6.0-py3-none-any.whl (14 kB)\n",
            "Requirement already satisfied: filelock in /usr/local/lib/python3.8/dist-packages (from gdown) (3.9.0)\n",
            "Requirement already satisfied: beautifulsoup4 in /usr/local/lib/python3.8/dist-packages (from gdown) (4.6.3)\n",
            "Requirement already satisfied: six in /usr/local/lib/python3.8/dist-packages (from gdown) (1.15.0)\n",
            "Requirement already satisfied: tqdm in /usr/local/lib/python3.8/dist-packages (from gdown) (4.64.1)\n",
            "Requirement already satisfied: requests[socks] in /usr/local/lib/python3.8/dist-packages (from gdown) (2.25.1)\n",
            "Requirement already satisfied: urllib3<1.27,>=1.21.1 in /usr/local/lib/python3.8/dist-packages (from requests[socks]->gdown) (1.24.3)\n",
            "Requirement already satisfied: chardet<5,>=3.0.2 in /usr/local/lib/python3.8/dist-packages (from requests[socks]->gdown) (4.0.0)\n",
            "Requirement already satisfied: idna<3,>=2.5 in /usr/local/lib/python3.8/dist-packages (from requests[socks]->gdown) (2.10)\n",
            "Requirement already satisfied: certifi>=2017.4.17 in /usr/local/lib/python3.8/dist-packages (from requests[socks]->gdown) (2022.12.7)\n",
            "Requirement already satisfied: PySocks!=1.5.7,>=1.5.6 in /usr/local/lib/python3.8/dist-packages (from requests[socks]->gdown) (1.7.1)\n",
            "Installing collected packages: gdown\n",
            "  Attempting uninstall: gdown\n",
            "    Found existing installation: gdown 4.4.0\n",
            "    Uninstalling gdown-4.4.0:\n",
            "      Successfully uninstalled gdown-4.4.0\n",
            "Successfully installed gdown-4.6.0\n",
            "Downloading...\n",
            "From: https://drive.google.com/uc?id=1FQM7YY7sEMj8yRtw0XRZvj4mh25NtD9a\n",
            "To: /content/transfer_functions.py\n",
            "100% 1.07k/1.07k [00:00<00:00, 1.67MB/s]\n",
            "Downloading...\n",
            "From: https://drive.google.com/uc?id=1-i6NvxjjvEbXM3AYHKr_1DvIsRfiEANP\n",
            "To: /content/Perceptron.py\n",
            "100% 1.32k/1.32k [00:00<00:00, 2.05MB/s]\n",
            "Downloading...\n",
            "From: https://drive.google.com/uc?id=1bseAr6dGdt-FW2l-bCbuRnyJgDYvIAyF\n",
            "To: /content/HopfieldNetwork.py\n",
            "100% 1.23k/1.23k [00:00<00:00, 1.70MB/s]\n",
            "Downloading...\n",
            "From: https://drive.google.com/uc?id=12_C7ylzgb5KU_G1T5IvTWnVhcHgQMHqI\n",
            "To: /content/HammingNetwork.py\n",
            "100% 2.49k/2.49k [00:00<00:00, 3.94MB/s]\n"
          ]
        }
      ],
      "source": [
        "!pip install --upgrade --no-cache-dir gdown\n",
        "!gdown 1FQM7YY7sEMj8yRtw0XRZvj4mh25NtD9a\n",
        "!gdown 1-i6NvxjjvEbXM3AYHKr_1DvIsRfiEANP\n",
        "!gdown 1bseAr6dGdt-FW2l-bCbuRnyJgDYvIAyF\n",
        "!gdown 12_C7ylzgb5KU_G1T5IvTWnVhcHgQMHqI"
      ]
    },
    {
      "cell_type": "code",
      "execution_count": 3,
      "metadata": {
        "colab": {
          "base_uri": "https://localhost:8080/",
          "height": 997
        },
        "id": "jGIAByP4kVMm",
        "outputId": "893a1261-560b-44d4-9863-f326fc4b34bb"
      },
      "outputs": [
        {
          "output_type": "stream",
          "name": "stdout",
          "text": [
            "We have the following two prototype vectors: \n",
            "\tp1 = [-1, 1].T    p2 = [1,1].T\n",
            "\n",
            "i.    Find and sketch a decision boundary for a perceptron network that will recognize these two vectors.\n"
          ]
        },
        {
          "output_type": "display_data",
          "data": {
            "text/plain": [
              "<Figure size 432x288 with 1 Axes>"
            ],
            "image/png": "[encoded data removed]"
          },
          "metadata": {
            "needs_background": "light"
          }
        },
        {
          "output_type": "stream",
          "name": "stdout",
          "text": [
            "\n",
            "ii.   Find weights and bias that will produce the decision boundary you found in part i.\n",
            "p1 [[-1]\n",
            " [ 1]] classification: [-1]\n",
            "p2 [[1]\n",
            " [1]] classification: [1]\n",
            "\n",
            "iv.   For the vector given below, calculate the net input, n, and the network output, a, for the network you have designed.  Does the network produce a good output? Explain. \n",
            "\tp_test = [0.5, -0.5].T\n",
            "p_test Classification =  [1]\n",
            "This is a good classification because the test array lands on the right side of the purposed decision boundary and gets classified as such.\n",
            "\n",
            "v.    Design a Hamming network to recognize the two vectors used in part i.\n",
            "p1 [[-1]\n",
            " [ 1]] classification: [[1]\n",
            " [0]]\n",
            "p2 [[1]\n",
            " [1]] classification: [[0]\n",
            " [1]]\n",
            "\n",
            "vi.   Calculate the network output for the Hamming network for the input vector given in part iv.  Does the network produce a good output? Explain.\n",
            "p_test Classification =  [[0]\n",
            " [1]]\n",
            "This is a correct classification but only by chance as the Hamming Network is only designed to classify prototypes that contain two possible values only.\n",
            "\n",
            "vii.  Design a Hopfield network to recognize the two vectors used in part i.\n",
            "p1 [[-1]\n",
            " [ 1]] classification: [[-1.]\n",
            " [ 1.]]\n",
            "p2 [[1]\n",
            " [1]] classification: [[1.]\n",
            " [1.]]\n",
            "\n",
            "viii. Calculate the network output for the Hopfield network for the input vector given in part iv.  Does the network produce a good output? Explain.\n",
            "p_test Classification =  [[1.]\n",
            " [1.]]\n",
            "Yes, this is the same classification outcome as expected and previously calculated from the other two networks.\n"
          ]
        }
      ],
      "source": [
        "\"\"\"\n",
        "We have the following two prototype vectors:\n",
        "    p1 = [-1, 1].T    p2 = [1,1].T\n",
        "i.    Find and sketch a decision boundary for a perceptron network that will recognize these two vectors.\n",
        "ii.   Find weights and bias that will produce the decision boundary you found in part i.\n",
        "iii.  Draw the network diagram using abreviated notation.\n",
        "iv.   For the vector given below, calculate the net input, n, and the network output, a, for the network you have designed.  Does the network produce a good output? Explain.\n",
        "      p_test = [0.5, -0.5].T\n",
        "v.    Design a Hamming network to recognize the two vectors used in part i.\n",
        "vi.   Calculate the network output for the Hamming network for the input vector given in part iv.  Does the network produce a good output? Explain.\n",
        "vii.  Design a Hopfield network to recognize the two vectors used in part i.\n",
        "viii. Calculate the network output for the Hopfield network for the input vector given in part iv.  Does the network produce a good output? Explain.\n",
        "\"\"\"\n",
        "\n",
        "import numpy as np\n",
        "import matplotlib.pyplot as plt\n",
        "\n",
        "from Perceptron import Perceptron\n",
        "from HammingNetwork import HammingNetwork\n",
        "from HopfieldNetwork import HopfieldNetwork\n",
        "\n",
        "if __name__ == \"__main__\":\n",
        "    print(\"We have the following two prototype vectors:\",\n",
        "          \"\\n\\tp1 = [-1, 1].T    p2 = [1,1].T\")\n",
        "    p1 = np.array([-1, 1]).reshape((2, 1))\n",
        "    p2 = np.array([1, 1]).reshape((2, 1))\n",
        "    prototypes = np.array([p1.T[0], p2.T[0]])\n",
        "\n",
        "    x = np.linspace(0, 0, 100)\n",
        "    y = np.linspace(0, 2, 100)\n",
        "\n",
        "    print(\"\\ni.    Find and sketch a decision boundary for a perceptron network that will recognize these two vectors.\")\n",
        "    plt.scatter(prototypes[0], prototypes[1])\n",
        "    plt.plot(x, y, color='black')\n",
        "    plt.grid(True)\n",
        "    plt.savefig('030601.pdf')\n",
        "    plt.show()\n",
        "\n",
        "    print(\"\\nii.   Find weights and bias that will produce the decision boundary you found in part i.\")\n",
        "    Weights = np.array([1, 0])\n",
        "    bias = 0\n",
        "\n",
        "    e3_6_perceptron = Perceptron(W = Weights, b = bias)\n",
        "\n",
        "    print(\"p1\", p1, \"classification:\", e3_6_perceptron.classify(p1))\n",
        "    print(\"p2\", p2, \"classification:\", e3_6_perceptron.classify(p2))\n",
        "\n",
        "    print(\"\\niv.   For the vector given below, calculate the net input, n, and the network output, a, for the network you have designed.  Does the network produce a good output? Explain.\",\n",
        "          \"\\n\\tp_test = [0.5, -0.5].T\")\n",
        "\n",
        "    p_test = np.array([0.5, -0.5]).reshape((2,1))\n",
        "    print(\"p_test Classification = \", e3_6_perceptron.classify(p_test))\n",
        "    print(\"This is a good classification because the test array lands on the right side of the purposed decision boundary and gets classified as such.\")\n",
        "\n",
        "    print(\"\\nv.    Design a Hamming network to recognize the two vectors used in part i.\")\n",
        "    e3_6_hamming = HammingNetwork(prototypes=prototypes)\n",
        "    print(\"p1\", p1, \"classification:\", e3_6_hamming.classify(p1))\n",
        "    print(\"p2\", p2, \"classification:\", e3_6_hamming.classify(p2))\n",
        "\n",
        "    print(\"\\nvi.   Calculate the network output for the Hamming network for the input vector given in part iv.  Does the network produce a good output? Explain.\")\n",
        "    print(\"p_test Classification = \", e3_6_hamming.classify(p_test))\n",
        "    print(\"This is a correct classification but only by chance as the Hamming Network is only designed to classify prototypes that contain two possible values only.\")\n",
        "\n",
        "    print(\"\\nvii.  Design a Hopfield network to recognize the two vectors used in part i.\")\n",
        "    Weights = np.array([[1.2, 0], [0, 0.2]])\n",
        "    bias = np.array([0, 0.9])\n",
        "\n",
        "    e3_6_hopfield = HopfieldNetwork(weights=Weights, bias = bias)\n",
        "    print(\"p1\", p1, \"classification:\", e3_6_hopfield.classify(p1))\n",
        "    print(\"p2\", p2, \"classification:\", e3_6_hopfield.classify(p2))\n",
        "\n",
        "    print(\"\\nviii. Calculate the network output for the Hopfield network for the input vector given in part iv.  Does the network produce a good output? Explain.\")\n",
        "    print(\"p_test Classification = \", e3_6_hopfield.classify(p_test))\n",
        "    print(\"Yes, this is the same classification outcome as expected and previously calculated from the other two networks.\")"
      ]
    },
    {
      "cell_type": "markdown",
      "metadata": {
        "id": "1yaHOAs-sMcd"
      },
      "source": [
        "#E3.7"
      ]
    },
    {
      "cell_type": "code",
      "execution_count": 5,
      "metadata": {
        "colab": {
          "base_uri": "https://localhost:8080/",
          "height": 893
        },
        "id": "dHeaUA2LsN_4",
        "outputId": "38c24519-1d6f-4c14-95da-883a983876de"
      },
      "outputs": [
        {
          "output_type": "stream",
          "name": "stdout",
          "text": [
            "We want to design a Hamming network to recognize the following prototype vectors: \n",
            "\tp1 = [1, 1].T p2 = [-1, -1].T p3 = [-1, 1].T\n",
            "prototypes [[ 1  1]\n",
            " [-1 -1]\n",
            " [-1  1]]\n",
            "p1 [[1]\n",
            " [1]] classification: [[1]\n",
            " [0]\n",
            " [0]]\n",
            "p2 [[-1]\n",
            " [-1]] classification: [[0]\n",
            " [1]\n",
            " [0]]\n",
            "p3 [[-1]\n",
            " [ 1]] classification: [[0]\n",
            " [0]\n",
            " [1]]\n",
            "\n",
            "i.   Find the weight matrices and bias vectors for the Hamming network. \n",
            "\tFeedForwardLayer Weights [[ 1  1]\n",
            " [-1 -1]\n",
            " [-1  1]] bias [[3]\n",
            " [3]\n",
            " [3]] \n",
            "\tRecurrentLayer Weights [[ 1.   -0.49 -0.49]\n",
            " [-0.49  1.   -0.49]\n",
            " [-0.49 -0.49  1.  ]] bias There are no biases in the recurrrent layer.\n",
            "\n",
            "iii. Apply the following input vector and calculate the total network response (iterating the second layer to convergence). Explain the meaning of the final network output. \n",
            "\tp_test = [1, 0].T\n",
            "\tClassification: [[1]\n",
            " [0]\n",
            " [0]]\n",
            "\n",
            "iv.  Sketch the decision boundaries for this network. Explain how you determined the boundaries.\n"
          ]
        },
        {
          "output_type": "display_data",
          "data": {
            "text/plain": [
              "<Figure size 432x288 with 1 Axes>"
            ],
            "image/png": "[encoded data removed]"
          },
          "metadata": {
            "needs_background": "light"
          }
        }
      ],
      "source": [
        "\"\"\"\n",
        "We want to design a Hamming network to recognize the following prototype vectors:\n",
        "    p1 = [1, 1].T   p2 = [-1, -1].T     p3 = [-1, 1].T\n",
        "i.   Find the weight matrices and bias vectors for the Hamming network.\n",
        "ii.  Draw the network diagram.\n",
        "iii. Apply the following input vector and calculate the total network response\n",
        "    (iterating the second layer to convergence). Explain the meaning of the final network output.\n",
        "    p_test = [1, 0]\n",
        "iv.  Sketch the decision boundaries for this network. Explain how you determined the boundaries.\n",
        "\"\"\"\n",
        "\n",
        "import numpy as np\n",
        "import matplotlib.pyplot as plt\n",
        "from HammingNetwork import HammingNetwork\n",
        "\n",
        "if __name__ == \"__main__\":\n",
        "    print(\"We want to design a Hamming network to recognize the following prototype vectors:\",\n",
        "          \"\\n\\tp1 = [1, 1].T\", \"p2 = [-1, -1].T\", \"p3 = [-1, 1].T\")\n",
        "    p1 = np.array([1, 1]).reshape((2, 1))\n",
        "    p2 = np.array([-1,-1]).reshape((2, 1))\n",
        "    p3 = np.array([-1, 1]).reshape((2, 1))\n",
        "\n",
        "    prototypes = np.array([p1.T, p2.T, p3.T]).reshape((3, 2))\n",
        "    print(\"prototypes\", prototypes)\n",
        "\n",
        "    e3_7_hamming = HammingNetwork(prototypes=prototypes)\n",
        "\n",
        "    print(\"p1\", p1, \"classification:\", e3_7_hamming.classify(p1))\n",
        "    print(\"p2\", p2, \"classification:\", e3_7_hamming.classify(p2))\n",
        "    print(\"p3\", p3, \"classification:\", e3_7_hamming.classify(p3))\n",
        "\n",
        "    print(\"\\ni.   Find the weight matrices and bias vectors for the Hamming network.\",\n",
        "          \"\\n\\tFeedForwardLayer\", \"Weights\", e3_7_hamming.feedForwardLayer.Weights, \"bias\", e3_7_hamming.feedForwardLayer.bias,\n",
        "          \"\\n\\tRecurrentLayer\", \"Weights\", e3_7_hamming.recurrentLayer.Weights, \"bias\", \"There are no biases in the recurrrent layer.\")\n",
        "\n",
        "    print(\"\\niii. Apply the following input vector and calculate the total network response (iterating the second layer to convergence). Explain the meaning of the final network output.\",\n",
        "          \"\\n\\tp_test = [1, 0].T\")\n",
        "    p_test = np.array([1, 0]).reshape((2, 1))\n",
        "    print(\"\\tClassification:\", e3_7_hamming.classify(p_test))\n",
        "\n",
        "    print(\"\\niv.  Sketch the decision boundaries for this network. Explain how you determined the boundaries.\")\n",
        "    x = np.linspace(-2, 2, 100)\n",
        "    y = np.linspace(0, 0, 100)\n",
        "\n",
        "    x2 = np.linspace(0, 0, 100)\n",
        "    y2 = np.linspace(-2, 2, 100)\n",
        "\n",
        "    plt.scatter(prototypes[:, 0], prototypes[:, 1])\n",
        "    plt.plot(x, y, color='black')\n",
        "    plt.plot(x2, y2, color='black')\n",
        "    plt.grid(True)\n",
        "    plt.savefig('030701.pdf')\n",
        "    plt.show()"
      ]
    }
  ]
}