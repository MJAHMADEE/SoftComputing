{
  "nbformat": 4,
  "nbformat_minor": 0,
  "metadata": {
    "colab": {
      "provenance": []
    },
    "kernelspec": {
      "name": "python3",
      "display_name": "Python 3"
    },
    "language_info": {
      "name": "python"
    }
  },
  "cells": [
    {
      "cell_type": "code",
      "source": [
        "from google.colab import drive\n",
        "drive.mount('/content/drive')"
      ],
      "metadata": {
        "id": "9OoPOvTXUkFV"
      },
      "execution_count": null,
      "outputs": []
    },
    {
      "cell_type": "code",
      "execution_count": 4,
      "metadata": {
        "id": "kNTiAbHU7JJw"
      },
      "outputs": [],
      "source": [
        "import sys\n",
        "sys.path.insert(0,'/content/drive/MyDrive/Soft_Codes/Soft/Final/Ch3')"
      ]
    },
    {
      "cell_type": "markdown",
      "source": [
        "# E3.1"
      ],
      "metadata": {
        "id": "2hIxxaw3U07B"
      }
    },
    {
      "cell_type": "code",
      "source": [
        "\"\"\"\n",
        "In this chapter we have designed three different neural networks to distinguish between apples and oranges, based on three sensor mesurements (shape, texture, and weight).\n",
        "Suppose that we want to distinguish between bananas and pineapples:\n",
        "bananas    = [-1, 1, -1].T\n",
        "Pineapples = [-1, -1, 1].T\n",
        "\n",
        "i.   Design a perceptron to recognize these patterns.\n",
        "ii.  Design a Hamming network to recognize these patterns.\n",
        "iii. Design a Hopfield network to recognize thse patterns.\n",
        "iv.  Test the operation of your networks by applying several different input patterns.  Discuss the advantages and disadvantages of each network.\n",
        "\"\"\"\n",
        "\n",
        "import numpy as np\n",
        "\n",
        "from Perceptron import Perceptron\n",
        "from HammingNetwork import HammingNetwork\n",
        "from HopfieldNetwork import HopfieldNetwork\n",
        "\n",
        "banana_prototype = np.array([-1, 1, -1]).reshape((3, 1))\n",
        "pineapple_prototype = np.array([-1, -1, 1]).reshape((3, 1))\n",
        "prototypes = np.array([banana_prototype.T[0], pineapple_prototype.T[0]])\n",
        "\n",
        "near_pineapple = np.array([1, -1, 1]).reshape((3, 1))\n",
        "near_banana = np.array([-1, 1, -1]).reshape((3, 1))\n",
        "\n",
        "if __name__ == \"__main__\":\n",
        "    print(prototypes)\n",
        "\n",
        "    print(\"\\ni.   Design a perceptron to recognize these patterns.\")\n",
        "    # Decision boundary is a weight that points towards that of a banana.\n",
        "    print(\"\\tNote: Decision boundary is a weight that points towards that of a banana.\")\n",
        "    decision_boundary = np.array([0, 1, -1])\n",
        "    \n",
        "    bp_perceptron = Perceptron(W=decision_boundary, b=0)\n",
        "    print(\"\\t\", \"near_pineapple\", bp_perceptron.classify(near_pineapple))\n",
        "    print(\"\\t\", \"near_banana\", bp_perceptron.classify(near_banana))\n",
        "\n",
        "    print(\"\\nii.  Design a Hamming network to recognize these patterns.\")\n",
        "    bp_hamming = HammingNetwork(prototypes=prototypes)\n",
        "    print(\"\\t\", \"near_pineapple\", bp_hamming.classify(near_pineapple))\n",
        "    print(\"\\t\", \"near_banana\", bp_hamming.classify(near_banana))\n",
        "\n",
        "    print(\"\\niii. Design a Hopfield network to recognize thse patterns.\")\n",
        "    bp_hopfield = HopfieldNetwork(np.array([[0.2, 0, 0], [0, 1.2, 0], [0, 0, 1.2]]), bias=np.array([-0.9, 0, 0]))    \n",
        "    print(\"\\t\", \"near_pineapple\", bp_hopfield.classify(near_pineapple))\n",
        "    print(\"\\t\", \"near_banana\", bp_hopfield.classify(near_banana))\n",
        "\n",
        "    print(\"\\niv.  Test the operation of your networks by applying several different input patterns.  Discuss the advantages and disadvantages of each network.\")\n",
        "    print(\"I am going to skip the test of different input patterns as the two prototypes are different in 2/3s of the their presentations.  I fear any tests my sully my understanding as I am not sure which result I should be getting to verify.\",\n",
        "          \"The hamming network seems to have the simplest implementation as it's weights and biases are defined by the prototypes themselves without the use of much math to calculate complex things such as the eigen matrix in the Hopfield Network\",\n",
        "          \"Or the decision boundary within the perceptron network.\")\n",
        "    print(\"Additionally, it is important to note the Hamming network is designed to only solve problems where each element in the input vector has only two possible values [e.g. 1 or -1].\")\n"
      ],
      "metadata": {
        "colab": {
          "base_uri": "https://localhost:8080/"
        },
        "id": "kHACFVt4U245",
        "outputId": "82bf6c21-5c8d-4518-a895-973d53c81924"
      },
      "execution_count": 14,
      "outputs": [
        {
          "output_type": "stream",
          "name": "stdout",
          "text": [
            "[[-1  1 -1]\n",
            " [-1 -1  1]]\n",
            "\n",
            "i.   Design a perceptron to recognize these patterns.\n",
            "\tNote: Decision boundary is a weight that points towards that of a banana.\n",
            "\t near_pineapple [-1]\n",
            "\t near_banana [1]\n",
            "\n",
            "ii.  Design a Hamming network to recognize these patterns.\n",
            "\t near_pineapple [[0]\n",
            " [1]]\n",
            "\t near_banana [[1]\n",
            " [0]]\n",
            "\n",
            "iii. Design a Hopfield network to recognize thse patterns.\n",
            "\t near_pineapple [[-1.]\n",
            " [-1.]\n",
            " [ 1.]]\n",
            "\t near_banana [[-1.]\n",
            " [ 1.]\n",
            " [-1.]]\n",
            "\n",
            "iv.  Test the operation of your networks by applying several different input patterns.  Discuss the advantages and disadvantages of each network.\n",
            "I am going to skip the test of different input patterns as the two prototypes are different in 2/3s of the their presentations.  I fear any tests my sully my understanding as I am not sure which result I should be getting to verify. The hamming network seems to have the simplest implementation as it's weights and biases are defined by the prototypes themselves without the use of much math to calculate complex things such as the eigen matrix in the Hopfield Network Or the decision boundary within the perceptron network.\n",
            "Additionally, it is important to note the Hamming network is designed to only solve problems where each element in the input vector has only two possible values [e.g. 1 or -1].\n"
          ]
        }
      ]
    },
    {
      "cell_type": "markdown",
      "source": [
        "# E3.2"
      ],
      "metadata": {
        "id": "bBkQivprU59m"
      }
    },
    {
      "cell_type": "code",
      "source": [
        "\n",
        "\"\"\"\n",
        "Consider the following prototype patterns:\n",
        "    p_1 = [1, 0.5].T\n",
        "    p_2 = [2, 1].T\n",
        "\n",
        "i.   Find and sketch the decision boundary for a perceptron network that will recognize these two vectors.\n",
        "ii.  Find weights and bias which will produce the decision boundary you found in part i, and sketch the network diagram.\n",
        "iii. Calculate the network output for the following input.  Is the network response (decision) reasonable? Explain.\n",
        "     p_test = [1, 0].T\n",
        "iv.  Design a Hamming network to recognize the two prototype vectors above.\n",
        "v.   Calculate the network output for the Hamming network with the input vector given in part iii, showing all steps.\n",
        "     Does the Hamming network produce the same deceiion as the perceptron? Explain why or why not.  Which network is\n",
        "     better suited to this problem? Explain.\n",
        "\"\"\"\n",
        "\n",
        "import numpy as np\n",
        "\n",
        "from HammingNetwork import HammingNetwork\n",
        "from Perceptron import Perceptron\n",
        "\n",
        "p_1 = np.array([1, 0.5]).reshape((2, 1))\n",
        "p_2 = np.array([2, 1]).reshape((2, 1))\n",
        "\n",
        "\n",
        "if __name__ == \"__main__\":\n",
        "    decision_boundary = (p_1 + p_2)/2\n",
        "    W = np.array([0.75, 0])\n",
        "    b = 0.75\n",
        "\n",
        "    print(\"\\ni.   Find and sketch the decision boundary for a perceptron network that will recognize these two vectors.\",\n",
        "          \"\\nii.  Find weights and bias which will produce the decision boundary you found in part i, and sketch the network diagram.\")\n",
        "    print(\"decision_boundary\", decision_boundary, \"W\", W, \"b\", b)\n",
        "\n",
        "    print(\"\\niii. Calculate the network output for the following input.  Is the network response (decision) reasonable? Explain.\",\n",
        "          \"\\n\\tp_test = [1, 0].T\")\n",
        "    p_test = np.array([1, 0]).reshape((2, 1))\n",
        "    test_perceptron = Perceptron(W=W, b=b)\n",
        "    print(\"Classification = \", test_perceptron.classify(p_test), \"\\nYes this is reasonable as p_test is closer to p_1 than p_2\")\n",
        "\n",
        "    print(\"\\niv.  Design a Hamming network to recognize the two prototype vectors above.\")\n",
        "    prototypes = np.array([p_1.T[0], p_2.T[0]])\n",
        "    test_hamming = HammingNetwork(prototypes=prototypes)\n",
        "    print(\"Classification = \", test_hamming.classify(p_test))\n",
        "\n",
        "    print(\"\\nv.   Calculate the network output for the Hamming network with the input vector given in part iii, showing all steps. Does the Hamming network produce the same deceiion as the perceptron? Explain why or why not.  Which network is better suited to this problem? Explain.\")\n",
        "    print(\"No.  The Hamming network misclassifies the test input.  This is because the Hamming network is only designed to classify problems where the input vector only has two possible values.\")\n"
      ],
      "metadata": {
        "colab": {
          "base_uri": "https://localhost:8080/"
        },
        "id": "JADzsCxSVgfv",
        "outputId": "1a759f8b-9a3b-4141-9301-91cc849a81e5"
      },
      "execution_count": 7,
      "outputs": [
        {
          "output_type": "stream",
          "name": "stdout",
          "text": [
            "\n",
            "i.   Find and sketch the decision boundary for a perceptron network that will recognize these two vectors. \n",
            "ii.  Find weights and bias which will produce the decision boundary you found in part i, and sketch the network diagram.\n",
            "decision_boundary [[1.5 ]\n",
            " [0.75]] W [0.75 0.  ] b 0.75\n",
            "\n",
            "iii. Calculate the network output for the following input.  Is the network response (decision) reasonable? Explain. \n",
            "\tp_test = [1, 0].T\n",
            "Classification =  [1] \n",
            "Yes this is reasonable as p_test is closer to p_1 than p_2\n",
            "\n",
            "iv.  Design a Hamming network to recognize the two prototype vectors above.\n",
            "Classification =  [[0]\n",
            " [1]]\n",
            "\n",
            "v.   Calculate the network output for the Hamming network with the input vector given in part iii, showing all steps. Does the Hamming network produce the same deceiion as the perceptron? Explain why or why not.  Which network is better suited to this problem? Explain.\n",
            "No.  The Hamming network misclassifies the test input.  This is because the Hamming network is only designed to classify problems where the input vector only has two possible values.\n"
          ]
        }
      ]
    },
    {
      "cell_type": "markdown",
      "source": [
        "# E3.3"
      ],
      "metadata": {
        "id": "MxTs8JSzVh2_"
      }
    },
    {
      "cell_type": "code",
      "source": [
        "\"\"\"\n",
        "Consider a Hopfield network, with the follwing weight and bias.\n",
        "\n",
        "W = [[1, -1], [-1, 1]]  b = [0, 0].T\n",
        "\n",
        "i.   The following input (initial condition) is applied to the network.  Find the network response (show the network output at each iteration until the network converges).\n",
        "        p = [0.9, 1].T\n",
        "ii.  Draw a sketch indicating what region of the input space will converge to the same final output that you found in part i. (In other words, for what other p vectors will\n",
        "     the network converge to the same final output?) Explain how you obtained your answer.\n",
        "iii. What other prototypes will this network converge to, and what regions of the input space corresponds to each prototype (sket the regions).  Explain how you obtained your answer.\n",
        "\"\"\"\n",
        "\n",
        "import numpy as np\n",
        "import matplotlib.pyplot as plt\n",
        "\n",
        "from HopfieldNetwork import HopfieldNetwork\n",
        "\n",
        "if __name__ == \"__main__\":\n",
        "    print(\"Consider a Hopfield network, with the follwing weight and bias.\", \"\\n\\tW = [[1, -1], [-1, 1]]  b = [0, 0].T\")\n",
        "\n",
        "    weights = np.array([[1, -1], [-1, 1]])\n",
        "    bias = np.array([0, 0]).reshape((2, 1))\n",
        "\n",
        "    test_input = np.array([0.9, 1]).reshape((2, 1))\n",
        "\n",
        "    e3_3Network = HopfieldNetwork(weights= weights, bias = bias)\n",
        "    e3_3Network.classify(a0 = test_input)\n",
        "\n",
        "    print(\"\\ni.   The following input (initial condition) is applied to the network.  Find the network response (show the network output at each iteration until the network converges).\", \"\\n\\tp = [0.9, 1].T\")\n",
        "    print(\"Listing activations\")\n",
        "    for index, activation in enumerate(e3_3Network.activations):\n",
        "        print(\"\\n\", index, activation)\n",
        "\n",
        "\n",
        "    print(\"\\nii.  Draw a sketch indicating what region of the input space will converge to the same final output that you found in part i. (In other words, for what other p vectors will the network converge to the same final output?) Explain how you obtained your answer.\")\n",
        "    x = np.linspace(-50,50)\n",
        "    y = x\n",
        "    y_edge = np.linspace(50,50)\n",
        "    plt.plot(x,y)\n",
        "    plt.fill_between(x, y, y_edge, where = y_edge > y)\n",
        "    plt.grid(True)\n",
        "    plt.show()\n",
        "\n",
        "    print(\"\\niii. What other prototypes will this network converge to, and what regions of the input space corresponds to each prototype (sket the regions).  Explain how you obtained your answer.\")\n",
        "    print(\"All prototypes above the line x=y because this is the decision matrix that would be generated by a weight = [[1, -1], [-1, 1]] and bias = [0, 0]\")"
      ],
      "metadata": {
        "colab": {
          "base_uri": "https://localhost:8080/",
          "height": 841
        },
        "id": "Xt3tC_oZVi8m",
        "outputId": "e2bebef5-e935-4bd4-f86f-afd9ab0490b4"
      },
      "execution_count": 8,
      "outputs": [
        {
          "output_type": "stream",
          "name": "stdout",
          "text": [
            "Consider a Hopfield network, with the follwing weight and bias. \n",
            "\tW = [[1, -1], [-1, 1]]  b = [0, 0].T\n",
            "\n",
            "i.   The following input (initial condition) is applied to the network.  Find the network response (show the network output at each iteration until the network converges). \n",
            "\tp = [0.9, 1].T\n",
            "Listing activations\n",
            "\n",
            " 0 [[0.9]\n",
            " [1. ]]\n",
            "\n",
            " 1 [[-0.1]\n",
            " [ 0.1]]\n",
            "\n",
            " 2 [[-0.2]\n",
            " [ 0.2]]\n",
            "\n",
            " 3 [[-0.4]\n",
            " [ 0.4]]\n",
            "\n",
            " 4 [[-0.8]\n",
            " [ 0.8]]\n",
            "\n",
            " 5 [[-1.]\n",
            " [ 1.]]\n",
            "\n",
            " 6 [[-1.]\n",
            " [ 1.]]\n",
            "\n",
            "ii.  Draw a sketch indicating what region of the input space will converge to the same final output that you found in part i. (In other words, for what other p vectors will the network converge to the same final output?) Explain how you obtained your answer.\n"
          ]
        },
        {
          "output_type": "display_data",
          "data": {
            "text/plain": [
              "<Figure size 432x288 with 1 Axes>"
            ],
            "image/png": "[encoded data removed]"
          },
          "metadata": {
            "needs_background": "light"
          }
        },
        {
          "output_type": "stream",
          "name": "stdout",
          "text": [
            "\n",
            "iii. What other prototypes will this network converge to, and what regions of the input space corresponds to each prototype (sket the regions).  Explain how you obtained your answer.\n",
            "All prototypes above the line x=y because this is the decision matrix that would be generated by a weight = [[1, -1], [-1, 1]] and bias = [0, 0]\n"
          ]
        }
      ]
    },
    {
      "cell_type": "markdown",
      "source": [
        "# E3.4"
      ],
      "metadata": {
        "id": "oAVlnyS7Vl3t"
      }
    },
    {
      "cell_type": "code",
      "source": [
        "\n",
        "\"\"\"\n",
        "Consider the following perceptron network.\n",
        "W = [[1, 1], [-1, 1]]   b = [-2, 0].T   f = hardlims\n",
        "\n",
        "i.   How many different classes can this network classify?\n",
        "ii.  Draw a diagram illustrating the regions corresponding to each class.  Label each region with the corresponding network output.\n",
        "iii. Calculate the network output for the following input.\n",
        "        p = [1, -1].T\n",
        "iv.  Plot the input from part iii. in your diagram from part ii, verify that it falls in the correctly labeled region.\n",
        "\"\"\"\n",
        "\n",
        "import numpy as np\n",
        "\n",
        "from transfer_functions import hardlims\n",
        "from Perceptron import Perceptron\n",
        "\n",
        "if __name__ == \"__main__\":\n",
        "    print(\"Consider the following perceptron network.\",\n",
        "          \"\\n\\tW = [[1, 1], [-1, 1]]   b = [-2, 0].T   f = hardlims\")\n",
        "    \n",
        "    weights = np.array([[1, 1], [-1, 1]])\n",
        "    bias = np.array([-2, 0]).reshape((2, 1))\n",
        "\n",
        "    e3_4_perceptron = Perceptron(W = weights, b = bias, transfer_function = hardlims)\n",
        "    \n",
        "    print(\"\\ni.   How many different classes can this network classify?\")\n",
        "    print(\"4 networks since the possible outputs are [[-1, -1]], [[-1, 1]], [[1, -1]], [[1, 1]]\")\n",
        "\n",
        "    print(\"\\nii.  Draw a diagram illustrating the regions corresponding to each class.  Label each region with the corresponding network output.\")\n",
        "    print(\"TODO!!!! I need to figure out how to determine these classification edges...\")\n",
        "\n",
        "    print(\"\\niii. Calculate the network output for the following input.\", \"\\n\\tp = [1, -1].T\")\n",
        "    test_prototype = np.array([1, -1]).reshape((2, 1))\n",
        "    print(\"Output:\", e3_4_perceptron.classify(test_prototype))\n",
        "\n",
        "    print(\"iv.  Plot the input from part iii. in your diagram from part ii, verify that it falls in the correctly labeled region.\")\n",
        "    print(\"TODO!!!! I need to figure out how to determine these classification edges...\")\n"
      ],
      "metadata": {
        "colab": {
          "base_uri": "https://localhost:8080/"
        },
        "id": "-3k2oRjOVopQ",
        "outputId": "e01ed851-4a07-4c48-f0ef-107e15de0ec3"
      },
      "execution_count": 9,
      "outputs": [
        {
          "output_type": "stream",
          "name": "stdout",
          "text": [
            "Consider the following perceptron network. \n",
            "\tW = [[1, 1], [-1, 1]]   b = [-2, 0].T   f = hardlims\n",
            "\n",
            "i.   How many different classes can this network classify?\n",
            "4 networks since the possible outputs are [[-1, -1]], [[-1, 1]], [[1, -1]], [[1, 1]]\n",
            "\n",
            "ii.  Draw a diagram illustrating the regions corresponding to each class.  Label each region with the corresponding network output.\n",
            "TODO!!!! I need to figure out how to determine these classification edges...\n",
            "\n",
            "iii. Calculate the network output for the following input. \n",
            "\tp = [1, -1].T\n",
            "Output: [[-1]\n",
            " [-1]]\n",
            "iv.  Plot the input from part iii. in your diagram from part ii, verify that it falls in the correctly labeled region.\n",
            "TODO!!!! I need to figure out how to determine these classification edges...\n"
          ]
        }
      ]
    },
    {
      "cell_type": "markdown",
      "source": [
        "# E3.5"
      ],
      "metadata": {
        "id": "D0Xv84s8VnY6"
      }
    },
    {
      "cell_type": "code",
      "source": [
        "\n",
        "\"\"\"\n",
        "We want to design a perceptron network to output a 1 when either of these two vectors are input to the network:\n",
        "    [-1, 0].T       [1, 2].T\n",
        "and to output a -1 when either of the following vectors are input to the network:\n",
        "    [-1, 1].T       [0, 2].T\n",
        "\n",
        "    i.   Find and sketch a decision boundary for a network that will solve this problem\n",
        "    ii.  Find weights and biases that will produce the decision boundary you fond in part 1.  Show all work.\n",
        "    iii. Draw the network diagram using abreviated notation.\n",
        "    iv.  For each of the four vectors given above, calculate the net input, n, and the network output, a, for the network you have designed.\n",
        "         Verify that your network sovles the problem.\n",
        "    v.   Are there other weights and biases that would solve the problem? If so, would you consider your weights best? Explain. \n",
        "\"\"\"\n",
        "\n",
        "import numpy as np\n",
        "import matplotlib.pyplot as plt\n",
        "\n",
        "from transfer_functions import hardlims, hardlim\n",
        "from Perceptron import Perceptron\n",
        "\n",
        "\n",
        "if __name__ == \"__main__\":\n",
        "    print(\"We want to design a perceptron network to output a 1 when either of these two vectors are input to the network:\",\n",
        "          \"\\n\\t[-1, 0].T       [1, 2].T\",\n",
        "          \"\\nand to output a -1 when either of the following vectors are input to the network:\",\n",
        "          \"\\n\\t[-1, 1].T       [0, 2].T\")\n",
        "\n",
        "    print(\"\\ni.   Find and sketch a decision boundary for a network that will solve this problem\")\n",
        "    x = np.linspace(-3,3, 100)\n",
        "    y = x + 1.5\n",
        "\n",
        "    plt.plot(x, y)\n",
        "    plt.grid(True)\n",
        "    plt.show()\n",
        "\n",
        "    print(\"\\nii.  Find weights and biases that will produce the decision boundary you fond in part 1.  Show all work.\")\n",
        "    W = np.array([1, -1]).reshape((1,2))\n",
        "    b = 1.5\n",
        "    print(\"Weights: \", W, \"bias\", b, \"Weight and bias calculated by finding the orthogonal line to the decision boundary sketched above\",\n",
        "          \"\\n\\tWeight associated to slope, bias associated to y intercept in the equation y=mx+b\")\n",
        "\n",
        "    e3_5_perceptron = Perceptron(W=W, b=b)\n",
        "\n",
        "    o_1_1 = np.array([-1, 0]).reshape((2, 1))\n",
        "    o_1_2 = np.array([1, 2]).reshape((2, 1))\n",
        "    o_m1_1 = np.array([-1, 1]).reshape((2, 1))\n",
        "    o_m1_2 = np.array([0, 2]).reshape((2, 1))\n",
        "\n",
        "    print(\"\\niii. Draw the network diagram using abreviated notation.\")\n",
        "    print(\"Passing on this since this is a programmatic implementation of these problems.  Also it seems rather trivial at this point.\")\n",
        "\n",
        "    print(\"\\niv.  For each of the four vectors given above, calculate the net input, n, and the network output, a, for the network you have designed.\",\n",
        "          \"\\n\\tVerify that your network sovles the problem.\")\n",
        "    print(\"\\t\\t[-1, 0].T\", e3_5_perceptron.classify(o_1_1))\n",
        "    print(\"\\t\\t[1, 2].T\", e3_5_perceptron.classify(o_1_2))\n",
        "    print(\"\\t\\t[-1, 1].T\", e3_5_perceptron.classify(o_m1_1))\n",
        "    print(\"\\t\\t[0, 2].T\", e3_5_perceptron.classify(o_m1_2))\n",
        "\n",
        "    print(\"v.   Are there other weights and biases that would solve the problem? If so, would you consider your weights best? Explain. \")\n",
        "    print(\"As described in part ii.  This is the absolute best weight and bias as it was calculated from a median decision boundary equation.\")\n"
      ],
      "metadata": {
        "colab": {
          "base_uri": "https://localhost:8080/",
          "height": 647
        },
        "id": "Sy9CDXaYVtz0",
        "outputId": "1e26b6ff-af24-4eb2-8e77-732974aa9b45"
      },
      "execution_count": 10,
      "outputs": [
        {
          "output_type": "stream",
          "name": "stdout",
          "text": [
            "We want to design a perceptron network to output a 1 when either of these two vectors are input to the network: \n",
            "\t[-1, 0].T       [1, 2].T \n",
            "and to output a -1 when either of the following vectors are input to the network: \n",
            "\t[-1, 1].T       [0, 2].T\n",
            "\n",
            "i.   Find and sketch a decision boundary for a network that will solve this problem\n"
          ]
        },
        {
          "output_type": "display_data",
          "data": {
            "text/plain": [
              "<Figure size 432x288 with 1 Axes>"
            ],
            "image/png": "[encoded data removed]"
          },
          "metadata": {
            "needs_background": "light"
          }
        },
        {
          "output_type": "stream",
          "name": "stdout",
          "text": [
            "\n",
            "ii.  Find weights and biases that will produce the decision boundary you fond in part 1.  Show all work.\n",
            "Weights:  [[ 1 -1]] bias 1.5 Weight and bias calculated by finding the orthogonal line to the decision boundary sketched above \n",
            "\tWeight associated to slope, bias associated to y intercept in the equation y=mx+b\n",
            "\n",
            "iii. Draw the network diagram using abreviated notation.\n",
            "Passing on this since this is a programmatic implementation of these problems.  Also it seems rather trivial at this point.\n",
            "\n",
            "iv.  For each of the four vectors given above, calculate the net input, n, and the network output, a, for the network you have designed. \n",
            "\tVerify that your network sovles the problem.\n",
            "\t\t[-1, 0].T [[1]]\n",
            "\t\t[1, 2].T [[1]]\n",
            "\t\t[-1, 1].T [[-1]]\n",
            "\t\t[0, 2].T [[-1]]\n",
            "v.   Are there other weights and biases that would solve the problem? If so, would you consider your weights best? Explain. \n",
            "As described in part ii.  This is the absolute best weight and bias as it was calculated from a median decision boundary equation.\n"
          ]
        }
      ]
    },
    {
      "cell_type": "markdown",
      "source": [
        "# E3.6"
      ],
      "metadata": {
        "id": "DMRnypDTVwml"
      }
    },
    {
      "cell_type": "code",
      "source": [
        "\n",
        "\"\"\"\n",
        "We have the following two prototype vectors:\n",
        "    p1 = [-1, 1].T    p2 = [1,1].T\n",
        "\n",
        "i.    Find and sketch a decision boundary for a perceptron network that will recognize these two vectors.\n",
        "ii.   Find weights and bias that will produce the decision boundary you found in part i.\n",
        "iii.  Draw the network diagram using abreviated notation.\n",
        "iv.   For the vector given below, calculate the net input, n, and the network output, a, for the network you have designed.  Does the network produce a good output? Explain.\n",
        "      p_test = [0.5, -0.5].T\n",
        "v.    Design a Hamming network to recognize the two vectors used in part i.\n",
        "vi.   Calculate the network output for the Hamming network for the input vector given in part iv.  Does the network produce a good output? Explain.\n",
        "vii.  Design a Hopfield network to recognize the two vectors used in part i.\n",
        "viii. Calculate the network output for the Hopfield network for the input vector given in part iv.  Does the network produce a good output? Explain.\n",
        "\"\"\"\n",
        "\n",
        "import numpy as np\n",
        "import matplotlib.pyplot as plt\n",
        "\n",
        "from Perceptron import Perceptron\n",
        "from HammingNetwork import HammingNetwork\n",
        "from HopfieldNetwork import HopfieldNetwork\n",
        "\n",
        "if __name__ == \"__main__\":\n",
        "    print(\"We have the following two prototype vectors:\",\n",
        "          \"\\n\\tp1 = [-1, 1].T    p2 = [1,1].T\")\n",
        "    p1 = np.array([-1, 1]).reshape((2, 1))\n",
        "    p2 = np.array([1, 1]).reshape((2, 1))\n",
        "    prototypes = np.array([p1.T[0], p2.T[0]])\n",
        "\n",
        "    x = np.linspace(0, 0, 100)\n",
        "    y = np.linspace(0, 2, 100)\n",
        "\n",
        "    print(\"\\ni.    Find and sketch a decision boundary for a perceptron network that will recognize these two vectors.\")\n",
        "    plt.scatter(prototypes[0], prototypes[1])\n",
        "    plt.plot(x, y, color='black')\n",
        "    plt.grid(True)\n",
        "    plt.show()\n",
        "\n",
        "    print(\"\\nii.   Find weights and bias that will produce the decision boundary you found in part i.\")\n",
        "    Weights = np.array([1, 0])\n",
        "    bias = 0\n",
        "\n",
        "    e3_6_perceptron = Perceptron(W = Weights, b = bias)\n",
        "\n",
        "    print(\"p1\", p1, \"classification:\", e3_6_perceptron.classify(p1))\n",
        "    print(\"p2\", p2, \"classification:\", e3_6_perceptron.classify(p2))\n",
        "\n",
        "    print(\"\\niv.   For the vector given below, calculate the net input, n, and the network output, a, for the network you have designed.  Does the network produce a good output? Explain.\",\n",
        "          \"\\n\\tp_test = [0.5, -0.5].T\")\n",
        "\n",
        "    p_test = np.array([0.5, -0.5]).reshape((2,1))\n",
        "    print(\"p_test Classification = \", e3_6_perceptron.classify(p_test))\n",
        "    print(\"This is a good classification because the test array lands on the right side of the purposed decision boundary and gets classified as such.\")\n",
        "\n",
        "    print(\"\\nv.    Design a Hamming network to recognize the two vectors used in part i.\")\n",
        "    e3_6_hamming = HammingNetwork(prototypes=prototypes)\n",
        "    print(\"p1\", p1, \"classification:\", e3_6_hamming.classify(p1))\n",
        "    print(\"p2\", p2, \"classification:\", e3_6_hamming.classify(p2))\n",
        "\n",
        "    print(\"\\nvi.   Calculate the network output for the Hamming network for the input vector given in part iv.  Does the network produce a good output? Explain.\")\n",
        "    print(\"p_test Classification = \", e3_6_hamming.classify(p_test))\n",
        "    print(\"This is a correct classification but only by chance as the Hamming Network is only designed to classify prototypes that contain two possible values only.\")\n",
        "\n",
        "    print(\"\\nvii.  Design a Hopfield network to recognize the two vectors used in part i.\")\n",
        "    Weights = np.array([[1.2, 0], [0, 0.2]])\n",
        "    bias = np.array([0, 0.9])\n",
        "\n",
        "    e3_6_hopfield = HopfieldNetwork(weights=Weights, bias = bias)\n",
        "    print(\"p1\", p1, \"classification:\", e3_6_hopfield.classify(p1))\n",
        "    print(\"p2\", p2, \"classification:\", e3_6_hopfield.classify(p2))\n",
        "\n",
        "    print(\"\\nviii. Calculate the network output for the Hopfield network for the input vector given in part iv.  Does the network produce a good output? Explain.\")\n",
        "    print(\"p_test Classification = \", e3_6_hopfield.classify(p_test))\n",
        "    print(\"Yes, this is the same classification outcome as expected and previously calculated from the other two networks.\")\n",
        "    "
      ],
      "metadata": {
        "colab": {
          "base_uri": "https://localhost:8080/",
          "height": 977
        },
        "id": "6rNP4afuVx68",
        "outputId": "d5092cbe-5a6c-46a7-b3fd-41a44f183f7d"
      },
      "execution_count": 11,
      "outputs": [
        {
          "output_type": "stream",
          "name": "stdout",
          "text": [
            "We have the following two prototype vectors: \n",
            "\tp1 = [-1, 1].T    p2 = [1,1].T\n",
            "\n",
            "i.    Find and sketch a decision boundary for a perceptron network that will recognize these two vectors.\n"
          ]
        },
        {
          "output_type": "display_data",
          "data": {
            "text/plain": [
              "<Figure size 432x288 with 1 Axes>"
            ],
            "image/png": "[encoded data removed]"
          },
          "metadata": {
            "needs_background": "light"
          }
        },
        {
          "output_type": "stream",
          "name": "stdout",
          "text": [
            "\n",
            "ii.   Find weights and bias that will produce the decision boundary you found in part i.\n",
            "p1 [[-1]\n",
            " [ 1]] classification: [-1]\n",
            "p2 [[1]\n",
            " [1]] classification: [1]\n",
            "\n",
            "iv.   For the vector given below, calculate the net input, n, and the network output, a, for the network you have designed.  Does the network produce a good output? Explain. \n",
            "\tp_test = [0.5, -0.5].T\n",
            "p_test Classification =  [1]\n",
            "This is a good classification because the test array lands on the right side of the purposed decision boundary and gets classified as such.\n",
            "\n",
            "v.    Design a Hamming network to recognize the two vectors used in part i.\n",
            "p1 [[-1]\n",
            " [ 1]] classification: [[1]\n",
            " [0]]\n",
            "p2 [[1]\n",
            " [1]] classification: [[0]\n",
            " [1]]\n",
            "\n",
            "vi.   Calculate the network output for the Hamming network for the input vector given in part iv.  Does the network produce a good output? Explain.\n",
            "p_test Classification =  [[0]\n",
            " [1]]\n",
            "This is a correct classification but only by chance as the Hamming Network is only designed to classify prototypes that contain two possible values only.\n",
            "\n",
            "vii.  Design a Hopfield network to recognize the two vectors used in part i.\n",
            "p1 [[-1]\n",
            " [ 1]] classification: [[-1.]\n",
            " [ 1.]]\n",
            "p2 [[1]\n",
            " [1]] classification: [[1.]\n",
            " [1.]]\n",
            "\n",
            "viii. Calculate the network output for the Hopfield network for the input vector given in part iv.  Does the network produce a good output? Explain.\n",
            "p_test Classification =  [[1.]\n",
            " [1.]]\n",
            "Yes, this is the same classification outcome as expected and previously calculated from the other two networks.\n"
          ]
        }
      ]
    },
    {
      "cell_type": "markdown",
      "source": [
        "# E3.7"
      ],
      "metadata": {
        "id": "0vdRBdaFV1Fb"
      }
    },
    {
      "cell_type": "code",
      "source": [
        "\n",
        "\"\"\"\n",
        "We want to design a Hamming network to recognize the following prototype vectors:\n",
        "    p1 = [1, 1].T   p2 = [-1, -1].T     p3 = [-1, 1].T\n",
        "\n",
        "i.   Find the weight matrices and bias vectors for the Hamming network.\n",
        "ii.  Draw the network diagram.\n",
        "iii. Apply the following input vector and calculate the total network response\n",
        "    (iterating the second layer to convergence). Explain the meaning of the final network output.\n",
        "    p_test = [1, 0]\n",
        "iv.  Sketch the decision boundaries for this network. Explain how you determined the boundaries.\n",
        "\"\"\"\n",
        "\n",
        "import numpy as np\n",
        "import matplotlib.pyplot as plt\n",
        "from HammingNetwork import HammingNetwork\n",
        "\n",
        "if __name__ == \"__main__\":\n",
        "    print(\"We want to design a Hamming network to recognize the following prototype vectors:\",\n",
        "          \"\\n\\tp1 = [1, 1].T\", \"p2 = [-1, -1].T\", \"p3 = [-1, 1].T\")\n",
        "    p1 = np.array([1, 1]).reshape((2, 1))\n",
        "    p2 = np.array([-1,-1]).reshape((2, 1))\n",
        "    p3 = np.array([-1, 1]).reshape((2, 1))\n",
        "\n",
        "    prototypes = np.array([p1.T, p2.T, p3.T]).reshape((3, 2))\n",
        "    print(\"prototypes\", prototypes)\n",
        "\n",
        "    e3_7_hamming = HammingNetwork(prototypes=prototypes)\n",
        "\n",
        "    print(\"p1\", p1, \"classification:\", e3_7_hamming.classify(p1))\n",
        "    print(\"p2\", p2, \"classification:\", e3_7_hamming.classify(p2))\n",
        "    print(\"p3\", p3, \"classification:\", e3_7_hamming.classify(p3))\n",
        "\n",
        "    print(\"\\ni.   Find the weight matrices and bias vectors for the Hamming network.\",\n",
        "          \"\\n\\tFeedForwardLayer\", \"Weights\", e3_7_hamming.feedForwardLayer.Weights, \"bias\", e3_7_hamming.feedForwardLayer.bias,\n",
        "          \"\\n\\tRecurrentLayer\", \"Weights\", e3_7_hamming.recurrentLayer.Weights, \"bias\", \"There are no biases in the recurrrent layer.\")\n",
        "\n",
        "    print(\"\\niii. Apply the following input vector and calculate the total network response (iterating the second layer to convergence). Explain the meaning of the final network output.\",\n",
        "          \"\\n\\tp_test = [1, 0].T\")\n",
        "    p_test = np.array([1, 0]).reshape((2, 1))\n",
        "    print(\"\\tClassification:\", e3_7_hamming.classify(p_test))\n",
        "\n",
        "    print(\"\\niv.  Sketch the decision boundaries for this network. Explain how you determined the boundaries.\")\n",
        "    x = np.linspace(-2, 2, 100)\n",
        "    y = np.linspace(0, 0, 100)\n",
        "\n",
        "    x2 = np.linspace(0, 0, 100)\n",
        "    y2 = np.linspace(-2, 2, 100)\n",
        "\n",
        "    plt.scatter(prototypes[:, 0], prototypes[:, 1])\n",
        "    plt.plot(x, y, color='black')\n",
        "    plt.plot(x2, y2, color='black')\n",
        "    plt.grid(True)\n",
        "    plt.show()\n",
        "    "
      ],
      "metadata": {
        "colab": {
          "base_uri": "https://localhost:8080/",
          "height": 873
        },
        "id": "GUoyHB1UV2Wt",
        "outputId": "9e3585fc-12ff-478c-9ac5-b48b647a6d6d"
      },
      "execution_count": 12,
      "outputs": [
        {
          "output_type": "stream",
          "name": "stdout",
          "text": [
            "We want to design a Hamming network to recognize the following prototype vectors: \n",
            "\tp1 = [1, 1].T p2 = [-1, -1].T p3 = [-1, 1].T\n",
            "prototypes [[ 1  1]\n",
            " [-1 -1]\n",
            " [-1  1]]\n",
            "p1 [[1]\n",
            " [1]] classification: [[1]\n",
            " [0]\n",
            " [0]]\n",
            "p2 [[-1]\n",
            " [-1]] classification: [[0]\n",
            " [1]\n",
            " [0]]\n",
            "p3 [[-1]\n",
            " [ 1]] classification: [[0]\n",
            " [0]\n",
            " [1]]\n",
            "\n",
            "i.   Find the weight matrices and bias vectors for the Hamming network. \n",
            "\tFeedForwardLayer Weights [[ 1  1]\n",
            " [-1 -1]\n",
            " [-1  1]] bias [[3]\n",
            " [3]\n",
            " [3]] \n",
            "\tRecurrentLayer Weights [[ 1.   -0.49 -0.49]\n",
            " [-0.49  1.   -0.49]\n",
            " [-0.49 -0.49  1.  ]] bias There are no biases in the recurrrent layer.\n",
            "\n",
            "iii. Apply the following input vector and calculate the total network response (iterating the second layer to convergence). Explain the meaning of the final network output. \n",
            "\tp_test = [1, 0].T\n",
            "\tClassification: [[1]\n",
            " [0]\n",
            " [0]]\n",
            "\n",
            "iv.  Sketch the decision boundaries for this network. Explain how you determined the boundaries.\n"
          ]
        },
        {
          "output_type": "display_data",
          "data": {
            "text/plain": [
              "<Figure size 432x288 with 1 Axes>"
            ],
            "image/png": "[encoded data removed]"
          },
          "metadata": {
            "needs_background": "light"
          }
        }
      ]
    }
  ]
}