{
  "nbformat": 4,
  "nbformat_minor": 0,
  "metadata": {
    "colab": {
      "provenance": []
    },
    "kernelspec": {
      "name": "python3",
      "display_name": "Python 3"
    },
    "language_info": {
      "name": "python"
    }
  },
  "cells": [
    {
      "cell_type": "code",
      "source": [
        "import numpy as np\n",
        "\n",
        "P = np.array([[1, 1], [1, -1]])\n",
        "p1 = np.array([[1], [1]])\n",
        "p2 = np.array([[1], [-1]])\n",
        "T = np.array([1, -1])\n",
        "\n",
        "Wh = np.dot(T, P.T)\n",
        "PPseudoinverse = np.dot(np.linalg.inv(np.dot(P.T, P)), P.T)\n",
        "W = np.dot(T, np.linalg.pinv(P))\n",
        "\n",
        "a1h = np.dot(Wh, p1)\n",
        "a1p = np.dot(W, p1)\n",
        "\n",
        "print(\"Wh = \", Wh)\n",
        "print(\"PPseudoinverse = \", PPseudoinverse)\n",
        "print(\"W = \", W)\n",
        "print(\"a1h = \", a1h)\n",
        "print(\"a1p = \", a1p)"
      ],
      "metadata": {
        "colab": {
          "base_uri": "https://localhost:8080/"
        },
        "id": "UVX8yChwu-8P",
        "outputId": "b836da52-1010-4378-ca08-b4c76fbd5459"
      },
      "execution_count": 4,
      "outputs": [
        {
          "output_type": "stream",
          "name": "stdout",
          "text": [
            "Wh =  [0 2]\n",
            "PPseudoinverse =  [[ 0.5  0.5]\n",
            " [ 0.5 -0.5]]\n",
            "W =  [-2.22044605e-16  1.00000000e+00]\n",
            "a1h =  [2]\n",
            "a1p =  [1.]\n"
          ]
        }
      ]
    },
    {
      "cell_type": "code",
      "execution_count": 3,
      "metadata": {
        "colab": {
          "base_uri": "https://localhost:8080/",
          "height": 265
        },
        "id": "bZ9TEkRMtatX",
        "outputId": "8cc67842-aa52-4efe-a0d8-a2befc910dc9"
      },
      "outputs": [
        {
          "output_type": "display_data",
          "data": {
            "text/plain": [
              "<Figure size 432x288 with 1 Axes>"
            ],
            "image/png": "[encoded data removed]"
          },
          "metadata": {
            "needs_background": "light"
          }
        }
      ],
      "source": [
        "import numpy as np\n",
        "import matplotlib.pyplot as plt\n",
        "\n",
        "p1 = np.array([1,1])\n",
        "p2 = np.array([1,-1])\n",
        "plt.plot(p1[0], p1[1], 'ro')\n",
        "plt.plot(p2[0], p2[1], 'bo')\n",
        "\n",
        "plt.plot([0,2],[0,0],'k-')\n",
        "plt.arrow(0,0,0,1,head_width=0.05, head_length=0.1, fc='k', ec='k')\n",
        "\n",
        "plt.savefig('E710.pdf')\n",
        "plt.show()"
      ]
    }
  ]
}